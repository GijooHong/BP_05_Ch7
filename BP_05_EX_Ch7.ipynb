{
  "nbformat": 4,
  "nbformat_minor": 0,
  "metadata": {
    "colab": {
      "provenance": [],
      "authorship_tag": "ABX9TyOTmeEVMXkE1vq3eSY5LxLN",
      "include_colab_link": true
    },
    "kernelspec": {
      "name": "python3",
      "display_name": "Python 3"
    },
    "language_info": {
      "name": "python"
    }
  },
  "cells": [
    {
      "cell_type": "markdown",
      "metadata": {
        "id": "view-in-github",
        "colab_type": "text"
      },
      "source": [
        "<a href=\"https://colab.research.google.com/github/GijooHong/BP_05_Ch7/blob/main/BP_05_EX_Ch7.ipynb\" target=\"_parent\"><img src=\"https://colab.research.google.com/assets/colab-badge.svg\" alt=\"Open In Colab\"/></a>"
      ]
    },
    {
      "cell_type": "markdown",
      "source": [
        "1. 눈사람을 그리고 함수를 작성하고 이 함수를 여러 번 호출하여서 랜덤한 위치에 눈사람을 그리는 프로그램을 작성하라. 아래 실행 결과와 최대한 비슷하게 작성해보자."
      ],
      "metadata": {
        "id": "iRGTJlZhravc"
      }
    },
    {
      "cell_type": "code",
      "source": [
        "import turtle\n",
        "t = turtle.Turtle()\n",
        "t.shape(\"turtle\")\n",
        "t.color(\"black\", \"white\")\n",
        "s = turtle.Screen(); s.bgcolor('skyblue');\n",
        "\n",
        "def draw_snowman(x, y):\n",
        "  t.up()\n",
        "  t.goto(x, y)\n",
        "  t.down()\n",
        "  t.begin_fill()\n",
        "  t.circle(20)\n",
        "  t.end_fill()\n",
        "  t.goto(x, y-25)\n",
        "  t.setheading(135)\n",
        "  t.fd(50)\n",
        "  t.backward(50)\n",
        "\n",
        "  t.setheading(30)\n",
        "  t.fd(50)\n",
        "  t.backward(50)\n",
        "  t.setheading(0)\n",
        "\n",
        "  t.begin_fill()\n",
        "  t.circle(15)\n",
        "  t.end_fill()\n",
        "  t.goto(x, y-70)\n",
        "  t.begin_fill()\n",
        "  t.circle(30)\n",
        "  t.end_fill()\n",
        "\n",
        "draw_snowman(0, 0)\n",
        "draw_snowman(100, 0)\n",
        "draw_snowman(200, 0)  \n"
      ],
      "metadata": {
        "id": "LLah9c4krj0u"
      },
      "execution_count": null,
      "outputs": []
    },
    {
      "cell_type": "markdown",
      "source": [
        "2. 6각형을 그리고 draw_hexa() 함수를 작성하고 이 함수를 호출하여서 다음과 같은 벌집 모양을 화면에 그려보자."
      ],
      "metadata": {
        "id": "x1zCaCHNri2m"
      }
    },
    {
      "cell_type": "code",
      "source": [
        "import turtle\n",
        "t = turtle.Turtle()\n",
        "t.shape(\"turtle\")\n",
        "t.speed(0)\n",
        "\n",
        "def hexagon():\n",
        "  for i in range(6):\n",
        "    turtle.fd(100)\n",
        "    turtle.lt(360/6)\n",
        "\n",
        "for i in range(6):\n",
        "  hexagon()\n",
        "  turtle.fd(100)\n",
        "  turtle.rt(60)   "
      ],
      "metadata": {
        "id": "ZJ0YzuijrkKg"
      },
      "execution_count": null,
      "outputs": []
    },
    {
      "cell_type": "markdown",
      "source": [
        "3. 함수 f(x)=x제곱+1 을 계산하는 함수를 작성하고 이 함수를 이용하여 화면에 f(x)를 그려보자."
      ],
      "metadata": {
        "id": "ddY4j2smrjDL"
      }
    },
    {
      "cell_type": "code",
      "source": [
        "import turtle\n",
        "t = turtle.Turtle()\n",
        "t.shape(\"turtle\")\n",
        "t.speed(0)\n",
        "\n",
        "def f(x):\n",
        "  return x**2+1\n",
        "\n",
        "t.goto(200,0)\n",
        "t.goto(0, 0)\n",
        "t.goto(0,200)\n",
        "t.goto(0, 0)\n",
        "\n",
        "for x in range(150):\n",
        "  t.goto(x, int(0.01*f(x)))"
      ],
      "metadata": {
        "id": "QZbp-O6yrkgW"
      },
      "execution_count": null,
      "outputs": []
    },
    {
      "cell_type": "markdown",
      "source": [
        "4. 터틀그래픽에서 거북이를 움직이지 않고 선을 긋는 함수 draw_line()을 정의하고 이것을 이용하여 다음과 같은 거미줄과 같은 모양을 그려보자, 거북이는 항상 중앙에 위치한다."
      ],
      "metadata": {
        "id": "Kc9fj7hxrjFs"
      }
    },
    {
      "cell_type": "code",
      "source": [
        "import turtle\n",
        "t = turtle.Turtle()\n",
        "t.shape(\"turtle\")\n",
        "t.speed(0)\n",
        "\n",
        "def draw_line():\n",
        "  t.fd(100)\n",
        "  t.backward(100)\n",
        "\n",
        "for x in range(12):\n",
        "  t.right(30)\n",
        "  draw_line()"
      ],
      "metadata": {
        "id": "fMtNMkFPrk1u"
      },
      "execution_count": null,
      "outputs": []
    },
    {
      "cell_type": "markdown",
      "source": [
        "5. 다음과 같이 이름을 받아서 생일 축하 노래를 출력하는 함수 happyBirthday()를 작성하고 테스트하시오."
      ],
      "metadata": {
        "id": "Rf1FKm8urjIo"
      }
    },
    {
      "cell_type": "code",
      "source": [
        "def happyBirthday(person):\n",
        "  print(\"Happy Birthday to you!\")\n",
        "  print(\"Happy Birthday to you!\")\n",
        "  print(\"Happy Birthday, dear \" + person)\n",
        "  print(\"Happy Birthday to you!\")\n",
        "\n",
        "happyBirthday(\"군산대\")  "
      ],
      "metadata": {
        "colab": {
          "base_uri": "https://localhost:8080/"
        },
        "id": "WL43QTNyrlje",
        "outputId": "678814f0-8ffb-499d-e5ec-9ef434e5f9cd"
      },
      "execution_count": 6,
      "outputs": [
        {
          "output_type": "stream",
          "name": "stdout",
          "text": [
            "Happy Birthday to you!\n",
            "Happy Birthday to you!\n",
            "Happy Birthday, dear 군산대\n",
            "Happy Birthday to you!\n"
          ]
        }
      ]
    },
    {
      "cell_type": "markdown",
      "source": [
        "6. 사용자로부터 2개의 정수를 받아서 수학 문제를 만들어서 화면에 출력하는 함수를 작성하고 테스트하시오."
      ],
      "metadata": {
        "id": "AFb8JjJWrjLc"
      }
    },
    {
      "cell_type": "code",
      "source": [
        "def sumProblem(x, y):\n",
        "  sum = x + y\n",
        "  sentence = \"정수\" + str(x) + \"+\"+str(y)+\"의 합은?\"\n",
        "  print(sentence)\n",
        "\n",
        "def main():\n",
        "  a = int(input(\"첫 번째 정수: \"))\n",
        "  b = int(input(\"두 번째 정수: \"))\n",
        "  sumProblem(a, b)\n",
        "\n",
        "main()   "
      ],
      "metadata": {
        "colab": {
          "base_uri": "https://localhost:8080/"
        },
        "id": "akHviVgLrl7W",
        "outputId": "c38a5bd2-0867-4ff2-a432-947e796fac56"
      },
      "execution_count": 5,
      "outputs": [
        {
          "output_type": "stream",
          "name": "stdout",
          "text": [
            "첫 번째 정수: 10\n",
            "두 번째 정수: 20\n",
            "정수10+20의 합은?\n"
          ]
        }
      ]
    },
    {
      "cell_type": "markdown",
      "source": [
        "7. 파이를 나타내는 PI=3.14를 전역 변수로 하여 원의 면적을 계산하는 함수 circleArea(radius)과 원의 둘레를 계산하는 함수 circleCircumference(radius)를 작성하고 테스트하르."
      ],
      "metadata": {
        "id": "5IA0IEuvrjOY"
      }
    },
    {
      "cell_type": "code",
      "source": [
        "PI = 3.14159265358979\n",
        "\n",
        "def circleArea(radius):\n",
        "  return PI*radius*radius\n",
        "\n",
        "def circleCircumference(radius):\n",
        "  return 2*PI*radius\n",
        "\n",
        "def main():\n",
        "  print('반지름이 5인 원의 면적:', circleArea(5))\n",
        "  print('반지름이 5인 원의 둘레:', circleCircumference(5))\n",
        "\n",
        "main()    "
      ],
      "metadata": {
        "colab": {
          "base_uri": "https://localhost:8080/"
        },
        "id": "9KPjtpuKrmR5",
        "outputId": "bd9a8f51-969e-441a-dcac-d7f231c60a36"
      },
      "execution_count": 3,
      "outputs": [
        {
          "output_type": "stream",
          "name": "stdout",
          "text": [
            "반지름이 5인 원의 면적: 78.53981633974475\n",
            "반지름이 5인 원의 둘레: 31.4159265358979\n"
          ]
        }
      ]
    },
    {
      "cell_type": "markdown",
      "source": [
        "8. 덧셈, 뺄셈, 곱셈, 나눗셈을 수행하는 함수를 각각 작성하고 테스트하라."
      ],
      "metadata": {
        "id": "Hs02eK8zrjRW"
      }
    },
    {
      "cell_type": "code",
      "source": [
        "def add(a, b):\n",
        "  print( \"(%d + %d)\" % (a, b), end=\" \")\n",
        "  return a + b\n",
        "\n",
        "def subtract(a, b):\n",
        "  print( \"(%d - %d)\" % (a, b), end=\" \")\n",
        "  return a - b\n",
        "\n",
        "def multiply(a, b):\n",
        "  print( \"(%d * %d)\" % (a, b), end=\" \")\n",
        "  return a * b\n",
        "\n",
        "def divide(a, b):\n",
        "  print( \"(%d / %d)\" % (a, b), end=\" \")\n",
        "  return a / b\n",
        "\n",
        "\n",
        "what = add(20,10)\n",
        "print(\"= \", what)      "
      ],
      "metadata": {
        "colab": {
          "base_uri": "https://localhost:8080/"
        },
        "id": "Vq_-qvhWrmqK",
        "outputId": "22fabbde-2d7e-4b62-8413-d543f123bf39"
      },
      "execution_count": 2,
      "outputs": [
        {
          "output_type": "stream",
          "name": "stdout",
          "text": [
            "(20 + 10) =  30\n"
          ]
        }
      ]
    }
  ]
}